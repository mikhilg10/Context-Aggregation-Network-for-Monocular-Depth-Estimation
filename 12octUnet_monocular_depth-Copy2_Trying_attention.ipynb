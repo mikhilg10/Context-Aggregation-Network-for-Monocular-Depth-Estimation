{
 "cells": [
  {
   "cell_type": "markdown",
   "metadata": {
    "id": "0RMCKDCih670"
   },
   "source": [
    "http://imagesci.ece.cmu.edu/files/paper/2019/PhaseCam_ICCP19.pdf"
   ]
  },
  {
   "cell_type": "markdown",
   "metadata": {
    "id": "EFzMHdLI_-08"
   },
   "source": [
    "#Imports"
   ]
  },
  {
   "cell_type": "code",
   "execution_count": 1,
   "metadata": {
    "id": "pHP6fong-9og"
   },
   "outputs": [],
   "source": [
    "from PIL import Image\n",
    "from pathlib import Path\n",
    "import matplotlib.pyplot as plt\n",
    "import numpy as np\n",
    "# import random\n",
    "# import glob\n",
    "# import os"
   ]
  },
  {
   "cell_type": "code",
   "execution_count": 2,
   "metadata": {
    "colab": {
     "base_uri": "https://localhost:8080/"
    },
    "id": "9E3HY4519euw",
    "outputId": "39978f9b-e1a7-4d5f-cf3e-559bf9df0401"
   },
   "outputs": [
    {
     "name": "stderr",
     "output_type": "stream",
     "text": [
      "/nfs4/mikhilg/miniconda3/envs/rnd/lib/python3.9/site-packages/tqdm/auto.py:22: TqdmWarning: IProgress not found. Please update jupyter and ipywidgets. See https://ipywidgets.readthedocs.io/en/stable/user_install.html\n",
      "  from .autonotebook import tqdm as notebook_tqdm\n"
     ]
    },
    {
     "name": "stdout",
     "output_type": "stream",
     "text": [
      "cuda\n"
     ]
    }
   ],
   "source": [
    "import torch \n",
    "import torch.nn as nn\n",
    "import torch.nn.functional as F\n",
    "import torch.optim as optim\n",
    "from torch.utils.data import Dataset, DataLoader\n",
    "import torchvision.transforms as T\n",
    "import torchvision.transforms as transforms\n",
    "import torchvision.transforms.functional as TF\n",
    "# import torchsummary as summary\n",
    "from torch.optim import lr_scheduler\n",
    "from torch.autograd import Variable\n",
    "from tqdm import tqdm\n",
    "device = torch.device(\"cuda\" if torch.cuda.is_available() else \"cpu\")\n",
    "print(device)"
   ]
  },
  {
   "cell_type": "markdown",
   "metadata": {
    "id": "y5ALtM_olY2X"
   },
   "source": [
    "#DATA"
   ]
  },
  {
   "cell_type": "code",
   "execution_count": 4,
   "metadata": {
    "id": "RUQNbXOHJIbB"
   },
   "outputs": [],
   "source": [
    "# from scipy.io import loadmat\n",
    "import h5py\n",
    "\n",
    "files = h5py.File('../nyu_depth_v2_labeled.mat.1','r')"
   ]
  },
  {
   "cell_type": "code",
   "execution_count": 5,
   "metadata": {
    "colab": {
     "base_uri": "https://localhost:8080/"
    },
    "id": "D_wqgLroKXO2",
    "outputId": "29a8565a-679c-485f-eafc-1b3c130060c5"
   },
   "outputs": [
    {
     "name": "stdout",
     "output_type": "stream",
     "text": [
      "(3, 640, 480)\n"
     ]
    },
    {
     "data": {
      "text/plain": [
       "1.1237347"
      ]
     },
     "execution_count": 5,
     "metadata": {},
     "output_type": "execute_result"
    }
   ],
   "source": [
    "# plt.show()\n",
    "# plt.imshow(files['depths'][1].transpose((1,0)))\n",
    "print(files['images'][0].shape)\n",
    "# print(files['images'][0].shape[0])\n",
    "np.min(files['depths'][1])"
   ]
  },
  {
   "cell_type": "markdown",
   "metadata": {
    "id": "IbNBq0VRlhw6"
   },
   "source": [
    "#DATALOADER Class"
   ]
  },
  {
   "cell_type": "code",
   "execution_count": 7,
   "metadata": {
    "id": "JULQ1tcINVK-"
   },
   "outputs": [],
   "source": [
    "class ImDataNYU(Dataset):\n",
    "    def calculate_mean(self, images):\n",
    "        mean_image = np.mean(images, axis=0)\n",
    "        return mean_image\n",
    "\n",
    "    def __init__(self, filename, Mode, rgb_transform = None, depth_transform = None):\n",
    "        f = h5py.File(filename, 'r')\n",
    "        images_data = f['images'][0:1449]\n",
    "        depths_data = f['depths'][0:1449]\n",
    "\n",
    "        if Mode == \"training\":\n",
    "            self.images = images_data[0:1150]\n",
    "            self.depths = depths_data[0:1150]\n",
    "        elif Mode == \"validation\":\n",
    "            self.images = images_data[1150:1350]\n",
    "            self.depths = depths_data[1150:1350]\n",
    "\n",
    "        elif Mode == \"test\":\n",
    "            self.images = images_data[1350:]\n",
    "            self.depths = depths_data[1350:]\n",
    "\n",
    "        self.rgb_transform = rgb_transform\n",
    "        self.depth_transform = depth_transform\n",
    "        self.mean_image = self.calculate_mean(images_data[0:1449])\n",
    "\n",
    "    def __len__(self):\n",
    "        return len(self.images)\n",
    "\n",
    "    def __getitem__(self, idx):\n",
    "        image = self.images[idx]\n",
    "        # image = (image - self.mean_image)/np.std(image)\n",
    "        image = image.transpose((2, 1, 0)) #Verticslly jacked image\n",
    "        #image = Image.fromarray(image)\n",
    "        if self.rgb_transform:\n",
    "            image = self.rgb_transform(image)\n",
    "\n",
    "        depth = self.depths[idx]\n",
    "        #depth = np.reshape(depth, (1, depth.shape[0], depth.shape[1]))\n",
    "        depth = depth.transpose((1, 0)) #Verticslly jacked depth\n",
    "        if self.depth_transform:\n",
    "            depth = self.depth_transform(depth)\n",
    "        #sample = {'image': image, 'depth': depth}\n",
    "        return image,depth\n"
   ]
  },
  {
   "cell_type": "markdown",
   "metadata": {
    "id": "Qw42WIQHk3Qg"
   },
   "source": [
    "#Augmengt the data "
   ]
  },
  {
   "cell_type": "code",
   "execution_count": 8,
   "metadata": {
    "id": "CxmoEc_fdxhy"
   },
   "outputs": [],
   "source": [
    "#Original DATA\n",
    "dataset_location='nyu_depth_v2_labeled.mat.1'\n",
    "batch_size=4\n",
    "IMAGE_HEIGHT, IMAGE_WIDTH = 400,400\n",
    "rgb_transforms = transforms.Compose([ \n",
    "                                         transforms.ToPILImage(),\n",
    "                                         transforms.Resize((IMAGE_WIDTH,IMAGE_HEIGHT)),\n",
    "                                         transforms.ToTensor()\n",
    "                                         ])\n",
    "depth_transforms = transforms.Compose([\n",
    "                                           transforms.ToPILImage(),\n",
    "                                           transforms.Resize((IMAGE_WIDTH,IMAGE_HEIGHT)),\n",
    "                                           transforms.ToTensor()\n",
    "                                           ])\n",
    "\n",
    "og_data = ImDataNYU( dataset_location,Mode='training', rgb_transform = rgb_transforms, depth_transform = depth_transforms)\n",
    "# train_loader = torch.utils.data.DataLoader(og_data,batch_size = batch_size, shuffle = True)"
   ]
  },
  {
   "cell_type": "code",
   "execution_count": 9,
   "metadata": {
    "id": "fyeICnHXiGNv"
   },
   "outputs": [],
   "source": [
    "#Vertical_Flip data\n",
    "\n",
    "Vflip_rgb_transforms = transforms.Compose([ \n",
    "                                         transforms.ToPILImage(),\n",
    "                                         transforms.Resize((IMAGE_WIDTH,IMAGE_HEIGHT)),\n",
    "                                         transforms.RandomVerticalFlip(p=1.0),\n",
    "                                         transforms.ToTensor()\n",
    "                                         ])\n",
    "Vflip_depth_transforms = transforms.Compose([\n",
    "                                           transforms.ToPILImage(),\n",
    "                                           transforms.Resize((IMAGE_WIDTH,IMAGE_HEIGHT)),\n",
    "                                           transforms.RandomVerticalFlip(p=1.0),\n",
    "                                           transforms.ToTensor()\n",
    "                                           ])\n",
    "\n",
    "Vflip_data = ImDataNYU( dataset_location,Mode='training', rgb_transform = Vflip_rgb_transforms, depth_transform = Vflip_depth_transforms)"
   ]
  },
  {
   "cell_type": "code",
   "execution_count": 10,
   "metadata": {
    "id": "SLv3hkgylAO-"
   },
   "outputs": [],
   "source": [
    "# #Horizontal_Flip data\n",
    "\n",
    "# gauss_rgb_transforms = transforms.Compose([ \n",
    "#                                          transforms.ToPILImage(),\n",
    "#                                          transforms.Resize((IMAGE_WIDTH,IMAGE_HEIGHT)),\n",
    "# #                                          transforms.GaussianBlur(kernel_size=(5, 9), sigma=(0.1, 5)),\n",
    "#                                          transforms.ToTensor()\n",
    "#                                          ])\n",
    "# g_depth_transforms = transforms.Compose([\n",
    "#                                            transforms.ToPILImage(),\n",
    "#                                            transforms.Resize((IMAGE_WIDTH,IMAGE_HEIGHT)),\n",
    "# #                                            transforms.RandomHorizontalFlip(p=1.0),\n",
    "#                                            transforms.ToTensor()\n",
    "#                                            ])\n",
    "\n",
    "# gauss_data = ImDataNYU( dataset_location,Mode='training', rgb_transform = gauss_rgb_transforms, depth_transform = g_depth_transforms)"
   ]
  },
  {
   "cell_type": "code",
   "execution_count": 11,
   "metadata": {
    "id": "8pjACaNOKUYU"
   },
   "outputs": [],
   "source": [
    "#rotn data\n",
    "rot_rgb_transforms = transforms.Compose([ \n",
    "                                         transforms.ToPILImage(),\n",
    "                                         transforms.Resize((IMAGE_WIDTH,IMAGE_HEIGHT)),\n",
    "                                         transforms.RandomRotation(degrees=(45)),\n",
    "                                         transforms.ToTensor()\n",
    "                                         ])\n",
    "rot_depth_transforms = transforms.Compose([\n",
    "                                           transforms.ToPILImage(),\n",
    "                                           transforms.Resize((IMAGE_WIDTH,IMAGE_HEIGHT)),\n",
    "                                           transforms.RandomRotation(degrees=(45)),\n",
    "                                           transforms.ToTensor()\n",
    "                                           ])\n",
    "\n",
    "rot_data = ImDataNYU( dataset_location,Mode='training', rgb_transform = rot_rgb_transforms, depth_transform = rot_depth_transforms)"
   ]
  },
  {
   "cell_type": "markdown",
   "metadata": {
    "id": "6qfPT_0Mkz3O"
   },
   "source": [
    "#Data Loader"
   ]
  },
  {
   "cell_type": "code",
   "execution_count": 12,
   "metadata": {},
   "outputs": [],
   "source": [
    "#CenterCrop(size=256)\n",
    "crop_rgb_transforms = transforms.Compose([ \n",
    "                                         transforms.ToPILImage(),\n",
    "                                         transforms.CenterCrop(size=256),\n",
    "                                         transforms.Resize((IMAGE_WIDTH,IMAGE_HEIGHT)),\n",
    "                                         transforms.ToTensor()\n",
    "                                         ])\n",
    "crop_depth_transforms = transforms.Compose([\n",
    "                                           transforms.ToPILImage(),\n",
    "                                           transforms.CenterCrop(size=256),\n",
    "                                           transforms.Resize((IMAGE_WIDTH,IMAGE_HEIGHT)),\n",
    "                                           transforms.ToTensor()\n",
    "                                           ])\n",
    "\n",
    "crop_data = ImDataNYU( dataset_location,Mode='training', rgb_transform = crop_rgb_transforms, depth_transform = crop_depth_transforms)"
   ]
  },
  {
   "cell_type": "code",
   "execution_count": 13,
   "metadata": {},
   "outputs": [],
   "source": [
    "# RandomEqualize(p=0.5)\n",
    "#CenterCrop(size=256)\n",
    "eq_rgb_transforms = transforms.Compose([ \n",
    "                                         transforms.ToPILImage(),\n",
    "#                                          transforms.RandomEqualize(p=1.0),\n",
    "                                         transforms.Resize((IMAGE_WIDTH,IMAGE_HEIGHT)),\n",
    "                                         transforms.ToTensor()\n",
    "                                         ])\n",
    "eq_depth_transforms = transforms.Compose([\n",
    "                                           transforms.ToPILImage(),\n",
    "                                           transforms.CenterCrop(size=256),\n",
    "                                           transforms.Resize((IMAGE_WIDTH,IMAGE_HEIGHT)),\n",
    "                                           transforms.ToTensor()\n",
    "                                           ])\n",
    "\n",
    "eq_data = ImDataNYU( dataset_location,Mode='training', rgb_transform = crop_rgb_transforms, depth_transform = crop_depth_transforms)"
   ]
  },
  {
   "cell_type": "code",
   "execution_count": 14,
   "metadata": {
    "id": "HlQo2x1GjPlz"
   },
   "outputs": [],
   "source": [
    "#Total data\n",
    "# total_data = torch.utils.data.ConcatDataset([og_data, rot_data ,gauss_data ])\n",
    "total_data = torch.utils.data.ConcatDataset([og_data,rot_data,crop_data ,Vflip_data]) #Vflip_data , Hflip_data\n",
    "#total_data = torch.utils.data.ConcatDataset([og_data,Vflip_data])    #rot_data, ,Hflip_data\n",
    "train_loader = torch.utils.data.DataLoader(total_data,batch_size = batch_size, shuffle = True)"
   ]
  },
  {
   "cell_type": "code",
   "execution_count": 15,
   "metadata": {
    "id": "tnV8Qm9Fc88I"
   },
   "outputs": [],
   "source": [
    "#crop_data ,rcr_data #Validation set\n",
    "validation_data = ImDataNYU( dataset_location,Mode='validation', rgb_transform = rgb_transforms, depth_transform = depth_transforms)\n",
    "val_loader = torch.utils.data.DataLoader(validation_data,batch_size = batch_size, shuffle = False)"
   ]
  },
  {
   "cell_type": "markdown",
   "metadata": {
    "id": "GBbKjzIaKNBy"
   },
   "source": [
    "#model"
   ]
  },
  {
   "cell_type": "code",
   "execution_count": 16,
   "metadata": {
    "id": "DMI-p1hwIlXn"
   },
   "outputs": [],
   "source": [
    "class DoubleConv(nn.Module):\n",
    "  def __init__(self,in_chan,out_chan):\n",
    "    super(DoubleConv,self).__init__()\n",
    "    self.conv  =  nn.Sequential(\n",
    "        nn.Conv2d(in_chan,out_chan,kernel_size=3,padding=1),\n",
    "        nn.BatchNorm2d(out_chan),\n",
    "        nn.ReLU(inplace=True),\n",
    "        nn.Conv2d(out_chan,out_chan,kernel_size=3,padding=1),\n",
    "        nn.BatchNorm2d(out_chan),\n",
    "        nn.ReLU(inplace=True)\n",
    "    )\n",
    "  def forward(self,x):\n",
    "    x = self.conv(x)\n",
    "    return x\n",
    "    \n",
    "class attention(nn.Module):\n",
    "    \"\"\"\n",
    "    Attention in UNet: \n",
    "    \"\"\"\n",
    "    def __init__(self,prev_ch,skip_ch,op_ch):\n",
    "        super(attention, self).__init__()\n",
    "        \n",
    "        self.gate_weight = nn.Sequential(\n",
    "            nn.Conv2d(prev_ch,op_ch, kernel_size=1, stride=1, padding=0, bias=True),\n",
    "            nn.BatchNorm2d(op_ch)\n",
    "            )\n",
    "        self.skip_weight = nn.Sequential(\n",
    "            nn.Conv2d(skip_ch,op_ch, kernel_size=1, stride=1, padding=0, bias=True),\n",
    "            nn.BatchNorm2d(op_ch)\n",
    "        )\n",
    "        self.psi = nn.Sequential(\n",
    "            nn.Conv2d(op_ch, 1, kernel_size=1, stride=1, padding=0, bias=True),\n",
    "            nn.BatchNorm2d(1),\n",
    "            nn.Sigmoid()\n",
    "        )\n",
    "        self.relu = nn.ReLU(inplace=True)\n",
    "    pass\n",
    "    def forward(self, gate, skip_connection):\n",
    "        g1 = self.gate_weight(gate)\n",
    "#         print(\"g1\",type(g1))\n",
    "        x1 = self.skip_weight(skip_connection)\n",
    "#         print(\"x1\",type(x1))\n",
    "        psi = self.relu(g1 + x1)\n",
    "#         print(\"psi1\",psi.shape)\n",
    "        psi1 = self.psi(psi)\n",
    "        \n",
    "        out = skip_connection * psi1\n",
    "        return out\n",
    "\n",
    "class UNetDepth_attention(nn.Module):\n",
    "  def __init__(self,feature = 8*[32,64,128,256,512]):\n",
    "    super(UNetDepth_attention,self).__init__()\n",
    "    self.pool = nn.MaxPool2d(kernel_size=2,stride=2)\n",
    "    self.enc1 = DoubleConv(3,feature[0])\n",
    "    self.enc2 = DoubleConv(feature[0],feature[1])\n",
    "    self.enc3 = DoubleConv(feature[1],feature[2])\n",
    "    self.enc4 = DoubleConv(feature[2],feature[3])\n",
    "    self.enc5 = DoubleConv(feature[3],feature[4])\n",
    "    \n",
    "    self.upsample1 = nn.ConvTranspose2d(in_channels=feature[4],out_channels=feature[3],kernel_size=2,stride=2)\n",
    "    self.att1 = attention(prev_ch=feature[3],skip_ch=feature[3],op_ch=feature[2])\n",
    "    self.dec1 = DoubleConv(feature[4],feature[3])\n",
    "    \n",
    "    self.upsample2 = nn.ConvTranspose2d(in_channels=feature[3],out_channels=feature[2],kernel_size=2,stride=2)\n",
    "    self.att2 = attention(prev_ch=feature[2],skip_ch=feature[2],op_ch=feature[1])\n",
    "    self.dec2 = DoubleConv(feature[3],feature[2])\n",
    "    \n",
    "    self.upsample3 = nn.ConvTranspose2d(in_channels=feature[2],out_channels=feature[1],kernel_size=2,stride=2)\n",
    "    self.att3 = attention(prev_ch=feature[1],skip_ch=feature[1],op_ch=feature[0])\n",
    "    self.dec3 = DoubleConv(feature[2],feature[1])\n",
    "    \n",
    "    self.upsample4 = nn.ConvTranspose2d(in_channels=feature[1],out_channels=feature[0],kernel_size=2,stride=2)\n",
    "    self.att4 = attention(prev_ch=feature[0],skip_ch=feature[0],op_ch=feature[0]//2)\n",
    "    self.dec4 = DoubleConv(feature[1],feature[0])\n",
    "    \n",
    "    self.out  = nn.Conv2d(feature[0],1,kernel_size=1)\n",
    "    self.drop = nn.Dropout2d(p=0.3)\n",
    "\n",
    "  def forward(self,x):\n",
    "    #encoder\n",
    "                          #inchannel 3 in_image = 256 256\n",
    "    x1  = self.enc1(x)    #inchannel=3 outchannel=32\n",
    "    x1  = self.drop(x1)\n",
    "    x2  = self.pool(x1)   # 32 128 128\n",
    "    x2  = self.drop(x2)   ##########$################\n",
    "    x3  = self.enc2(x2)   # inchannel=32 outchannel=64\n",
    "    x4  = self.pool(x3)   # 64 64 64 \n",
    "    x4  = self.drop(x4)   #######################\n",
    "    x5  = self.enc3(x4)   # inchannel=64 outchannel=128\n",
    "    x6  = self.pool(x5)   #128 32 32\n",
    "    x7  = self.enc4(x6)   #inchannel=128 outchannel=256\n",
    "    x8  = self.pool(x7)   #256 16 16\n",
    "    x9  = self.enc5(x8)   #inchannel=256 outchannel=512\n",
    "#     print(\"x9\",x9.shape)\n",
    "    #decoder\n",
    "    \n",
    "    x10 = self.upsample1(x9)\n",
    "    a10 = self.att1(gate=x10,skip_connection=x7)\n",
    "#     print(\"a10\",a10.shape)\n",
    "    au10 = torch.cat([a10,x10],dim=1)\n",
    "    d10 = self.dec1(au10)\n",
    "    \n",
    "    \n",
    "    x11 = self.upsample2(d10)\n",
    "    a11 = self.att2(gate=x11,skip_connection=x5)\n",
    "    au11 = torch.cat([a11,x11],dim=1)\n",
    "    d11 = self.dec2(au11)\n",
    "    \n",
    "    x12 = self.upsample3(d11)\n",
    "    a12 = self.att3(gate=x12,skip_connection=x3)\n",
    "    au12 = torch.cat([a12,x12],dim=1)\n",
    "    d12 = self.dec3(au12)\n",
    "    \n",
    "    x13 = self.upsample4(x12)\n",
    "    a13 = self.att4(gate=x13,skip_connection=x1)\n",
    "    au13 = torch.cat([a13,x13],dim=1)\n",
    "    d13 = self.dec4(au13)\n",
    "    \n",
    "#     #print(\"x11\", x11.shape)\n",
    "#     x12 = torch.cat([self.upsample2(x11),x5],dim=1)\n",
    "#     #print(\"x12\", x12.shape)\n",
    "#     x13 = self.dec2(x12)\n",
    "# #     x13 = self.drop(x13)  ###############\n",
    "#     #print(\"x13\", x13.shape)\n",
    "#     x14 = torch.cat([self.upsample3(x13),x3],dim=1)\n",
    "#     x15 = self.dec3(x14)\n",
    "#     #print(\"x15\", x15.shape)\n",
    "#     x16 = torch.cat([self.upsample4(x15),x1],dim=1)\n",
    "# #     x16 = self.drop(x16)   ################\n",
    "#     x17 = self.dec4(x16)\n",
    "    #print(\"x17\", x17.shape)\n",
    "    out = self.out(d13)\n",
    "    #print(\"out\", out.shape)\n",
    "    return out\n",
    "\n",
    "net = UNetDepth_attention().to(device)\n",
    "model = torch.nn.DataParallel(net, device_ids=[0, 1, 2, 3])"
   ]
  },
  {
   "cell_type": "code",
   "execution_count": 17,
   "metadata": {
    "id": "v7BShSdBIk-R"
   },
   "outputs": [
    {
     "name": "stdout",
     "output_type": "stream",
     "text": [
      "==========================================================================================\n",
      "Layer (type:depth-idx)                   Output Shape              Param #\n",
      "==========================================================================================\n",
      "├─UNetDepth_attention: 1-1               []                        --\n",
      "├─UNetDepth_attention: 1                 []                        --\n",
      "|    └─DoubleConv: 2-1                   []                        --\n",
      "|    └─DoubleConv: 2                     []                        --\n",
      "|    |    └─Sequential: 3-1              []                        10,272\n",
      "├─UNetDepth_attention: 1-2               [-1, 1, 256, 256]         --\n",
      "├─UNetDepth_attention: 1                 []                        --\n",
      "|    └─DoubleConv: 2-2                   [-1, 32, 256, 256]        --\n",
      "|    └─DoubleConv: 2                     []                        --\n",
      "|    |    └─Sequential: 3-2              [-1, 32, 256, 256]        --\n",
      "|    └─Dropout2d: 2-3                    [-1, 32, 256, 256]        --\n",
      "|    └─MaxPool2d: 2-4                    [-1, 32, 128, 128]        --\n",
      "|    └─Dropout2d: 2-5                    [-1, 32, 128, 128]        --\n",
      "|    └─DoubleConv: 2-6                   [-1, 64, 128, 128]        --\n",
      "|    └─DoubleConv: 2                     []                        --\n",
      "|    |    └─Sequential: 3-3              [-1, 64, 128, 128]        55,680\n",
      "|    └─MaxPool2d: 2-7                    [-1, 64, 64, 64]          --\n",
      "|    └─Dropout2d: 2-8                    [-1, 64, 64, 64]          --\n",
      "|    └─DoubleConv: 2-9                   [-1, 128, 64, 64]         --\n",
      "|    └─DoubleConv: 2                     []                        --\n",
      "|    |    └─Sequential: 3-4              [-1, 128, 64, 64]         221,952\n",
      "|    └─MaxPool2d: 2-10                   [-1, 128, 32, 32]         --\n",
      "|    └─DoubleConv: 2-11                  [-1, 256, 32, 32]         --\n",
      "|    └─DoubleConv: 2                     []                        --\n",
      "|    |    └─Sequential: 3-5              [-1, 256, 32, 32]         886,272\n",
      "|    └─MaxPool2d: 2-12                   [-1, 256, 16, 16]         --\n",
      "|    └─DoubleConv: 2-13                  [-1, 512, 16, 16]         --\n",
      "|    └─DoubleConv: 2                     []                        --\n",
      "|    |    └─Sequential: 3-6              [-1, 512, 16, 16]         3,542,016\n",
      "|    └─ConvTranspose2d: 2-14             [-1, 256, 32, 32]         524,544\n",
      "|    └─attention: 2-15                   [-1, 256, 32, 32]         --\n",
      "|    └─attention: 2                      []                        --\n",
      "|    |    └─Sequential: 3-7              [-1, 128, 32, 32]         33,152\n",
      "|    |    └─Sequential: 3-8              [-1, 128, 32, 32]         33,152\n",
      "|    |    └─ReLU: 3-9                    [-1, 128, 32, 32]         --\n",
      "|    |    └─Sequential: 3-10             [-1, 1, 32, 32]           131\n",
      "|    └─DoubleConv: 2-16                  [-1, 256, 32, 32]         --\n",
      "|    └─DoubleConv: 2                     []                        --\n",
      "|    |    └─Sequential: 3-11             [-1, 256, 32, 32]         1,771,008\n",
      "|    └─ConvTranspose2d: 2-17             [-1, 128, 64, 64]         131,200\n",
      "|    └─attention: 2-18                   [-1, 128, 64, 64]         --\n",
      "|    └─attention: 2                      []                        --\n",
      "|    |    └─Sequential: 3-12             [-1, 64, 64, 64]          8,384\n",
      "|    |    └─Sequential: 3-13             [-1, 64, 64, 64]          8,384\n",
      "|    |    └─ReLU: 3-14                   [-1, 64, 64, 64]          --\n",
      "|    |    └─Sequential: 3-15             [-1, 1, 64, 64]           67\n",
      "|    └─DoubleConv: 2-19                  [-1, 128, 64, 64]         --\n",
      "|    └─DoubleConv: 2                     []                        --\n",
      "|    |    └─Sequential: 3-16             [-1, 128, 64, 64]         443,136\n",
      "|    └─ConvTranspose2d: 2-20             [-1, 64, 128, 128]        32,832\n",
      "|    └─attention: 2-21                   [-1, 64, 128, 128]        --\n",
      "|    └─attention: 2                      []                        --\n",
      "|    |    └─Sequential: 3-17             [-1, 32, 128, 128]        2,144\n",
      "|    |    └─Sequential: 3-18             [-1, 32, 128, 128]        2,144\n",
      "|    |    └─ReLU: 3-19                   [-1, 32, 128, 128]        --\n",
      "|    |    └─Sequential: 3-20             [-1, 1, 128, 128]         35\n",
      "|    └─DoubleConv: 2-22                  [-1, 64, 128, 128]        --\n",
      "|    └─DoubleConv: 2                     []                        --\n",
      "|    |    └─Sequential: 3-21             [-1, 64, 128, 128]        110,976\n",
      "|    └─ConvTranspose2d: 2-23             [-1, 32, 256, 256]        8,224\n",
      "|    └─attention: 2-24                   [-1, 32, 256, 256]        --\n",
      "|    └─attention: 2                      []                        --\n",
      "|    |    └─Sequential: 3-22             [-1, 16, 256, 256]        560\n",
      "|    |    └─Sequential: 3-23             [-1, 16, 256, 256]        560\n",
      "|    |    └─ReLU: 3-24                   [-1, 16, 256, 256]        --\n",
      "|    |    └─Sequential: 3-25             [-1, 1, 256, 256]         19\n",
      "|    └─DoubleConv: 2-25                  [-1, 32, 256, 256]        --\n",
      "|    └─DoubleConv: 2                     []                        --\n",
      "|    |    └─Sequential: 3-26             [-1, 32, 256, 256]        27,840\n",
      "|    └─Conv2d: 2-26                      [-1, 1, 256, 256]         33\n",
      "|    └─Dropout2d: 2-27                   [-1, 32, 256, 256]        --\n",
      "|    └─MaxPool2d: 2-28                   [-1, 32, 128, 128]        --\n",
      "|    └─Dropout2d: 2-29                   [-1, 32, 128, 128]        --\n",
      "|    └─DoubleConv: 2-30                  [-1, 64, 128, 128]        --\n",
      "|    └─DoubleConv: 2                     []                        --\n",
      "|    |    └─Sequential: 3-27             [-1, 64, 128, 128]        --\n",
      "|    └─MaxPool2d: 2-31                   [-1, 64, 64, 64]          --\n",
      "|    └─Dropout2d: 2-32                   [-1, 64, 64, 64]          --\n",
      "|    └─DoubleConv: 2-33                  [-1, 128, 64, 64]         --\n",
      "|    └─DoubleConv: 2                     []                        --\n",
      "|    |    └─Sequential: 3-28             [-1, 128, 64, 64]         --\n",
      "|    └─MaxPool2d: 2-34                   [-1, 128, 32, 32]         --\n",
      "|    └─DoubleConv: 2-35                  [-1, 256, 32, 32]         --\n",
      "|    └─DoubleConv: 2                     []                        --\n",
      "|    |    └─Sequential: 3-29             [-1, 256, 32, 32]         --\n",
      "|    └─MaxPool2d: 2-36                   [-1, 256, 16, 16]         --\n",
      "|    └─DoubleConv: 2-37                  [-1, 512, 16, 16]         --\n",
      "|    └─DoubleConv: 2                     []                        --\n",
      "|    |    └─Sequential: 3-30             [-1, 512, 16, 16]         --\n",
      "|    └─ConvTranspose2d: 2-38             [-1, 256, 32, 32]         --\n",
      "|    └─attention: 2-39                   [-1, 256, 32, 32]         --\n",
      "|    └─attention: 2                      []                        --\n",
      "|    |    └─Sequential: 3-31             [-1, 128, 32, 32]         --\n",
      "|    |    └─Sequential: 3-32             [-1, 128, 32, 32]         --\n",
      "|    |    └─ReLU: 3-33                   [-1, 128, 32, 32]         --\n",
      "|    |    └─Sequential: 3-34             [-1, 1, 32, 32]           --\n",
      "|    └─DoubleConv: 2-40                  [-1, 256, 32, 32]         --\n",
      "|    └─DoubleConv: 2                     []                        --\n",
      "|    |    └─Sequential: 3-35             [-1, 256, 32, 32]         --\n",
      "|    └─ConvTranspose2d: 2-41             [-1, 128, 64, 64]         --\n",
      "|    └─attention: 2-42                   [-1, 128, 64, 64]         --\n",
      "|    └─attention: 2                      []                        --\n",
      "|    |    └─Sequential: 3-36             [-1, 64, 64, 64]          --\n",
      "|    |    └─Sequential: 3-37             [-1, 64, 64, 64]          --\n",
      "|    |    └─ReLU: 3-38                   [-1, 64, 64, 64]          --\n",
      "|    |    └─Sequential: 3-39             [-1, 1, 64, 64]           --\n",
      "|    └─DoubleConv: 2-43                  [-1, 128, 64, 64]         --\n",
      "|    └─DoubleConv: 2                     []                        --\n",
      "|    |    └─Sequential: 3-40             [-1, 128, 64, 64]         --\n",
      "|    └─ConvTranspose2d: 2-44             [-1, 64, 128, 128]        --\n",
      "|    └─attention: 2-45                   [-1, 64, 128, 128]        --\n",
      "|    └─attention: 2                      []                        --\n",
      "|    |    └─Sequential: 3-41             [-1, 32, 128, 128]        --\n",
      "|    |    └─Sequential: 3-42             [-1, 32, 128, 128]        --\n",
      "|    |    └─ReLU: 3-43                   [-1, 32, 128, 128]        --\n",
      "|    |    └─Sequential: 3-44             [-1, 1, 128, 128]         --\n",
      "|    └─DoubleConv: 2-46                  [-1, 64, 128, 128]        --\n",
      "|    └─DoubleConv: 2                     []                        --\n",
      "|    |    └─Sequential: 3-45             [-1, 64, 128, 128]        --\n",
      "|    └─ConvTranspose2d: 2-47             [-1, 32, 256, 256]        --\n",
      "|    └─attention: 2-48                   [-1, 32, 256, 256]        --\n",
      "|    └─attention: 2                      []                        --\n",
      "|    |    └─Sequential: 3-46             [-1, 16, 256, 256]        --\n",
      "|    |    └─Sequential: 3-47             [-1, 16, 256, 256]        --\n",
      "|    |    └─ReLU: 3-48                   [-1, 16, 256, 256]        --\n",
      "|    |    └─Sequential: 3-49             [-1, 1, 256, 256]         --\n",
      "|    └─DoubleConv: 2-49                  [-1, 32, 256, 256]        --\n",
      "|    └─DoubleConv: 2                     []                        --\n",
      "|    |    └─Sequential: 3-50             [-1, 32, 256, 256]        --\n",
      "|    └─Conv2d: 2-50                      [-1, 1, 256, 256]         --\n",
      "==========================================================================================\n",
      "Total params: 7,854,717\n",
      "Trainable params: 7,854,717\n",
      "Non-trainable params: 0\n",
      "Total mult-adds (G): 13.91\n",
      "==========================================================================================\n",
      "Input size (MB): 0.75\n",
      "Forward/backward pass size (MB): 319.83\n",
      "Params size (MB): 29.96\n",
      "Estimated Total Size (MB): 350.54\n",
      "==========================================================================================\n"
     ]
    },
    {
     "data": {
      "text/plain": [
       "==========================================================================================\n",
       "Layer (type:depth-idx)                   Output Shape              Param #\n",
       "==========================================================================================\n",
       "├─UNetDepth_attention: 1-1               []                        --\n",
       "├─UNetDepth_attention: 1                 []                        --\n",
       "|    └─DoubleConv: 2-1                   []                        --\n",
       "|    └─DoubleConv: 2                     []                        --\n",
       "|    |    └─Sequential: 3-1              []                        10,272\n",
       "├─UNetDepth_attention: 1-2               [-1, 1, 256, 256]         --\n",
       "├─UNetDepth_attention: 1                 []                        --\n",
       "|    └─DoubleConv: 2-2                   [-1, 32, 256, 256]        --\n",
       "|    └─DoubleConv: 2                     []                        --\n",
       "|    |    └─Sequential: 3-2              [-1, 32, 256, 256]        --\n",
       "|    └─Dropout2d: 2-3                    [-1, 32, 256, 256]        --\n",
       "|    └─MaxPool2d: 2-4                    [-1, 32, 128, 128]        --\n",
       "|    └─Dropout2d: 2-5                    [-1, 32, 128, 128]        --\n",
       "|    └─DoubleConv: 2-6                   [-1, 64, 128, 128]        --\n",
       "|    └─DoubleConv: 2                     []                        --\n",
       "|    |    └─Sequential: 3-3              [-1, 64, 128, 128]        55,680\n",
       "|    └─MaxPool2d: 2-7                    [-1, 64, 64, 64]          --\n",
       "|    └─Dropout2d: 2-8                    [-1, 64, 64, 64]          --\n",
       "|    └─DoubleConv: 2-9                   [-1, 128, 64, 64]         --\n",
       "|    └─DoubleConv: 2                     []                        --\n",
       "|    |    └─Sequential: 3-4              [-1, 128, 64, 64]         221,952\n",
       "|    └─MaxPool2d: 2-10                   [-1, 128, 32, 32]         --\n",
       "|    └─DoubleConv: 2-11                  [-1, 256, 32, 32]         --\n",
       "|    └─DoubleConv: 2                     []                        --\n",
       "|    |    └─Sequential: 3-5              [-1, 256, 32, 32]         886,272\n",
       "|    └─MaxPool2d: 2-12                   [-1, 256, 16, 16]         --\n",
       "|    └─DoubleConv: 2-13                  [-1, 512, 16, 16]         --\n",
       "|    └─DoubleConv: 2                     []                        --\n",
       "|    |    └─Sequential: 3-6              [-1, 512, 16, 16]         3,542,016\n",
       "|    └─ConvTranspose2d: 2-14             [-1, 256, 32, 32]         524,544\n",
       "|    └─attention: 2-15                   [-1, 256, 32, 32]         --\n",
       "|    └─attention: 2                      []                        --\n",
       "|    |    └─Sequential: 3-7              [-1, 128, 32, 32]         33,152\n",
       "|    |    └─Sequential: 3-8              [-1, 128, 32, 32]         33,152\n",
       "|    |    └─ReLU: 3-9                    [-1, 128, 32, 32]         --\n",
       "|    |    └─Sequential: 3-10             [-1, 1, 32, 32]           131\n",
       "|    └─DoubleConv: 2-16                  [-1, 256, 32, 32]         --\n",
       "|    └─DoubleConv: 2                     []                        --\n",
       "|    |    └─Sequential: 3-11             [-1, 256, 32, 32]         1,771,008\n",
       "|    └─ConvTranspose2d: 2-17             [-1, 128, 64, 64]         131,200\n",
       "|    └─attention: 2-18                   [-1, 128, 64, 64]         --\n",
       "|    └─attention: 2                      []                        --\n",
       "|    |    └─Sequential: 3-12             [-1, 64, 64, 64]          8,384\n",
       "|    |    └─Sequential: 3-13             [-1, 64, 64, 64]          8,384\n",
       "|    |    └─ReLU: 3-14                   [-1, 64, 64, 64]          --\n",
       "|    |    └─Sequential: 3-15             [-1, 1, 64, 64]           67\n",
       "|    └─DoubleConv: 2-19                  [-1, 128, 64, 64]         --\n",
       "|    └─DoubleConv: 2                     []                        --\n",
       "|    |    └─Sequential: 3-16             [-1, 128, 64, 64]         443,136\n",
       "|    └─ConvTranspose2d: 2-20             [-1, 64, 128, 128]        32,832\n",
       "|    └─attention: 2-21                   [-1, 64, 128, 128]        --\n",
       "|    └─attention: 2                      []                        --\n",
       "|    |    └─Sequential: 3-17             [-1, 32, 128, 128]        2,144\n",
       "|    |    └─Sequential: 3-18             [-1, 32, 128, 128]        2,144\n",
       "|    |    └─ReLU: 3-19                   [-1, 32, 128, 128]        --\n",
       "|    |    └─Sequential: 3-20             [-1, 1, 128, 128]         35\n",
       "|    └─DoubleConv: 2-22                  [-1, 64, 128, 128]        --\n",
       "|    └─DoubleConv: 2                     []                        --\n",
       "|    |    └─Sequential: 3-21             [-1, 64, 128, 128]        110,976\n",
       "|    └─ConvTranspose2d: 2-23             [-1, 32, 256, 256]        8,224\n",
       "|    └─attention: 2-24                   [-1, 32, 256, 256]        --\n",
       "|    └─attention: 2                      []                        --\n",
       "|    |    └─Sequential: 3-22             [-1, 16, 256, 256]        560\n",
       "|    |    └─Sequential: 3-23             [-1, 16, 256, 256]        560\n",
       "|    |    └─ReLU: 3-24                   [-1, 16, 256, 256]        --\n",
       "|    |    └─Sequential: 3-25             [-1, 1, 256, 256]         19\n",
       "|    └─DoubleConv: 2-25                  [-1, 32, 256, 256]        --\n",
       "|    └─DoubleConv: 2                     []                        --\n",
       "|    |    └─Sequential: 3-26             [-1, 32, 256, 256]        27,840\n",
       "|    └─Conv2d: 2-26                      [-1, 1, 256, 256]         33\n",
       "|    └─Dropout2d: 2-27                   [-1, 32, 256, 256]        --\n",
       "|    └─MaxPool2d: 2-28                   [-1, 32, 128, 128]        --\n",
       "|    └─Dropout2d: 2-29                   [-1, 32, 128, 128]        --\n",
       "|    └─DoubleConv: 2-30                  [-1, 64, 128, 128]        --\n",
       "|    └─DoubleConv: 2                     []                        --\n",
       "|    |    └─Sequential: 3-27             [-1, 64, 128, 128]        --\n",
       "|    └─MaxPool2d: 2-31                   [-1, 64, 64, 64]          --\n",
       "|    └─Dropout2d: 2-32                   [-1, 64, 64, 64]          --\n",
       "|    └─DoubleConv: 2-33                  [-1, 128, 64, 64]         --\n",
       "|    └─DoubleConv: 2                     []                        --\n",
       "|    |    └─Sequential: 3-28             [-1, 128, 64, 64]         --\n",
       "|    └─MaxPool2d: 2-34                   [-1, 128, 32, 32]         --\n",
       "|    └─DoubleConv: 2-35                  [-1, 256, 32, 32]         --\n",
       "|    └─DoubleConv: 2                     []                        --\n",
       "|    |    └─Sequential: 3-29             [-1, 256, 32, 32]         --\n",
       "|    └─MaxPool2d: 2-36                   [-1, 256, 16, 16]         --\n",
       "|    └─DoubleConv: 2-37                  [-1, 512, 16, 16]         --\n",
       "|    └─DoubleConv: 2                     []                        --\n",
       "|    |    └─Sequential: 3-30             [-1, 512, 16, 16]         --\n",
       "|    └─ConvTranspose2d: 2-38             [-1, 256, 32, 32]         --\n",
       "|    └─attention: 2-39                   [-1, 256, 32, 32]         --\n",
       "|    └─attention: 2                      []                        --\n",
       "|    |    └─Sequential: 3-31             [-1, 128, 32, 32]         --\n",
       "|    |    └─Sequential: 3-32             [-1, 128, 32, 32]         --\n",
       "|    |    └─ReLU: 3-33                   [-1, 128, 32, 32]         --\n",
       "|    |    └─Sequential: 3-34             [-1, 1, 32, 32]           --\n",
       "|    └─DoubleConv: 2-40                  [-1, 256, 32, 32]         --\n",
       "|    └─DoubleConv: 2                     []                        --\n",
       "|    |    └─Sequential: 3-35             [-1, 256, 32, 32]         --\n",
       "|    └─ConvTranspose2d: 2-41             [-1, 128, 64, 64]         --\n",
       "|    └─attention: 2-42                   [-1, 128, 64, 64]         --\n",
       "|    └─attention: 2                      []                        --\n",
       "|    |    └─Sequential: 3-36             [-1, 64, 64, 64]          --\n",
       "|    |    └─Sequential: 3-37             [-1, 64, 64, 64]          --\n",
       "|    |    └─ReLU: 3-38                   [-1, 64, 64, 64]          --\n",
       "|    |    └─Sequential: 3-39             [-1, 1, 64, 64]           --\n",
       "|    └─DoubleConv: 2-43                  [-1, 128, 64, 64]         --\n",
       "|    └─DoubleConv: 2                     []                        --\n",
       "|    |    └─Sequential: 3-40             [-1, 128, 64, 64]         --\n",
       "|    └─ConvTranspose2d: 2-44             [-1, 64, 128, 128]        --\n",
       "|    └─attention: 2-45                   [-1, 64, 128, 128]        --\n",
       "|    └─attention: 2                      []                        --\n",
       "|    |    └─Sequential: 3-41             [-1, 32, 128, 128]        --\n",
       "|    |    └─Sequential: 3-42             [-1, 32, 128, 128]        --\n",
       "|    |    └─ReLU: 3-43                   [-1, 32, 128, 128]        --\n",
       "|    |    └─Sequential: 3-44             [-1, 1, 128, 128]         --\n",
       "|    └─DoubleConv: 2-46                  [-1, 64, 128, 128]        --\n",
       "|    └─DoubleConv: 2                     []                        --\n",
       "|    |    └─Sequential: 3-45             [-1, 64, 128, 128]        --\n",
       "|    └─ConvTranspose2d: 2-47             [-1, 32, 256, 256]        --\n",
       "|    └─attention: 2-48                   [-1, 32, 256, 256]        --\n",
       "|    └─attention: 2                      []                        --\n",
       "|    |    └─Sequential: 3-46             [-1, 16, 256, 256]        --\n",
       "|    |    └─Sequential: 3-47             [-1, 16, 256, 256]        --\n",
       "|    |    └─ReLU: 3-48                   [-1, 16, 256, 256]        --\n",
       "|    |    └─Sequential: 3-49             [-1, 1, 256, 256]         --\n",
       "|    └─DoubleConv: 2-49                  [-1, 32, 256, 256]        --\n",
       "|    └─DoubleConv: 2                     []                        --\n",
       "|    |    └─Sequential: 3-50             [-1, 32, 256, 256]        --\n",
       "|    └─Conv2d: 2-50                      [-1, 1, 256, 256]         --\n",
       "==========================================================================================\n",
       "Total params: 7,854,717\n",
       "Trainable params: 7,854,717\n",
       "Non-trainable params: 0\n",
       "Total mult-adds (G): 13.91\n",
       "==========================================================================================\n",
       "Input size (MB): 0.75\n",
       "Forward/backward pass size (MB): 319.83\n",
       "Params size (MB): 29.96\n",
       "Estimated Total Size (MB): 350.54\n",
       "=========================================================================================="
      ]
     },
     "execution_count": 17,
     "metadata": {},
     "output_type": "execute_result"
    }
   ],
   "source": [
    "from torchsummary import summary\n",
    "summary(model,(3,256,256))"
   ]
  },
  {
   "cell_type": "markdown",
   "metadata": {
    "id": "5l4dg4pQKIcT"
   },
   "source": [
    "#training"
   ]
  },
  {
   "cell_type": "code",
   "execution_count": 18,
   "metadata": {},
   "outputs": [],
   "source": [
    "# def ScaleInvariantLoss(output, depth):\n",
    "#     # di = output - target\n",
    "#     output = torch.log(output+1)\n",
    "#     target = torch.log(depth+1)\n",
    "#     di = torch.abs(depth - output)\n",
    "#     n = (IMAGE_HEIGHT*IMAGE_WIDTH)\n",
    "#     di2 = torch.pow(di, 2)\n",
    "#     fisrt_term = torch.sum(di2)/n\n",
    "#     second_term = torch.pow(torch.sum(di), 2)/ (n**2)\n",
    "#     loss = fisrt_term - second_term\n",
    "#     return loss.mean()\n",
    "def gradLoss(output, depth):\n",
    "    # di = grad(output - target)\n",
    "    di = torch.gradient(output-depth)\n",
    "    n = IMAGE_HEIGHT*IMAGE_WIDTH\n",
    "    fisrt_term = torch.sum(di[1])/np.sqrt(n)\n",
    "    second_term = torch.sum(di[2])/ np.sqrt(n)\n",
    "    loss = torch.abs(fisrt_term) + torch.abs(second_term)\n",
    "    return loss\n"
   ]
  },
  {
   "cell_type": "code",
   "execution_count": 20,
   "metadata": {},
   "outputs": [],
   "source": [
    "# optimizer = torch.optim.Adam(model.parameters(), lr=1e-4, weight_decay=1e-5)\n",
    "# optimizer = torch.optim.SGD(model.parameters(), lr=1e-4, weight_decay=1e-5)\n",
    "# optimizer = optim.SGD(model.parameters(), lr=LEARNING_RATE, momentum=MOMENTUM)\n",
    "# optimizer = optim.Adam(model.parameters(), lr=LEARNING_RATE)"
   ]
  },
  {
   "cell_type": "code",
   "execution_count": 21,
   "metadata": {},
   "outputs": [],
   "source": [
    "def log_no_explode(z):\n",
    "    return torch.log(torch.clamp(z,1e-8,1e8))\n",
    "class KLdivergence(nn.Module):\n",
    "    def __init__(self):\n",
    "        super(KLdivergence, self).__init__()\n",
    "    def forward(self, Q,P):\n",
    "        kl_loss = P * log_no_explode(P/Q)\n",
    "        pixel_loss = torch.sum(kl_loss, dim=-1)\n",
    "        total_loss = torch.mean(pixel_loss)\n",
    "        return total_loss\n",
    "\n",
    "class Att_loss(KLdivergence):\n",
    "    def __init__(self,scale=1):\n",
    "        super(Att_loss, self).__init__()\n",
    "        self.scale = scale\n",
    "    def get_similarity(self,depth):\n",
    "        b, _, h, w = depth.shape\n",
    "        M = depth.reshape((b, h * w, 1))\n",
    "        N = depth.reshape((b, 1, h * w))\n",
    "        W = F.softmax(-torch.abs(torch.log(M) - torch.log(N)), -1)\n",
    "        W[torch.isnan(W)] = 0\n",
    "        return W\n",
    "    def get_gt_sim_map(self, label):\n",
    "        b, _, h, w = label.shape\n",
    "        res_label = F.interpolate(label, size=(h//8//self.scale, w//8//self.scale), mode='nearest')\n",
    "        gt_sim_map = self.get_similarity(res_label)\n",
    "        return gt_sim_map\n",
    "    def forward(self, sim_map, label):\n",
    "        \"\"\"\n",
    "        Parameters\n",
    "        ----------\n",
    "        sim_map: [batch_size, n, n]\n",
    "        label: [batch_size, 1, h, w]\n",
    "        \"\"\"\n",
    "        gt_sim_map = self.get_gt_sim_map(label)\n",
    "        return super(AttentionLoss2d, self).forward(sim_map, gt_sim_map)\n",
    "class _BaseEntropyLoss2d(nn.Module):\n",
    "    def __init__(self, ignore_index=None, reduction='sum', use_weights=False, weight=None):\n",
    "        \"\"\"\n",
    "        Parameters\n",
    "        ----------\n",
    "        ignore_index : Specifies a target value that is ignored\n",
    "                       and does not contribute to the input gradient\n",
    "        reduction : Specifies the reduction to apply to the output: \n",
    "                    'mean' | 'sum'. 'mean': elemenwise mean, \n",
    "                    'sum': class dim will be summed and batch dim will be averaged.\n",
    "        use_weight : whether to use weights of classes.\n",
    "        weight : Tensor, optional\n",
    "                a manual rescaling weight given to each class.\n",
    "                If given, has to be a Tensor of size \"nclasses\"\n",
    "        \"\"\"\n",
    "        super(_BaseEntropyLoss2d, self).__init__()\n",
    "        self.ignore_index = ignore_index\n",
    "        self.reduction = reduction\n",
    "        self.use_weights = use_weights\n",
    "        if use_weights:\n",
    "            print(\"w/ class balance\")\n",
    "            print(weight)\n",
    "            self.weight = torch.FloatTensor(weight).cuda()\n",
    "        else:\n",
    "            print(\"w/o class balance\")\n",
    "            self.weight = None\n",
    "\n",
    "    def get_entropy(self, pred, label):\n",
    "        \"\"\"\n",
    "        Return\n",
    "        ------\n",
    "        entropy : shape [batch_size, h, w, c]\n",
    "        Description\n",
    "        -----------\n",
    "        Information Entropy based loss need to get the entropy according to your implementation, \n",
    "        each element denotes the loss of a certain position and class.\n",
    "        \"\"\"\n",
    "        raise NotImplementedError\n",
    "\n",
    "    def forward(self, pred, label):\n",
    "        \"\"\"\n",
    "        Parameters\n",
    "        ----------\n",
    "        pred: [batch_size, num_classes, h, w]\n",
    "        label: [batch_size, h, w]\n",
    "        \"\"\"\n",
    "        assert not label.requires_grad\n",
    "        assert pred.dim() == 4\n",
    "        assert label.dim() == 3\n",
    "        assert pred.size(0) == label.size(0), \"{0} vs {1} \".format(pred.size(0), label.size(0))\n",
    "        assert pred.size(2) == label.size(1), \"{0} vs {1} \".format(pred.size(2), label.size(1))\n",
    "        assert pred.size(3) == label.size(2), \"{0} vs {1} \".format(pred.size(3), label.size(3))\n",
    "\n",
    "        n, c, h, w = pred.size()\n",
    "        if self.use_weights:\n",
    "            if self.weight is None:\n",
    "                print('label size {}'.format(label.shape))\n",
    "                freq = np.zeros(c)\n",
    "                for k in range(c):\n",
    "                    mask = (label[:, :, :] == k)\n",
    "                    freq[k] = torch.sum(mask)\n",
    "                    print('{}th frequency {}'.format(k, freq[k]))\n",
    "                weight = freq / np.sum(freq) * c\n",
    "                weight = np.median(weight) / weight\n",
    "                self.weight = torch.FloatTensor(weight).cuda()\n",
    "                print('Online class weight: {}'.format(self.weight))\n",
    "        else:\n",
    "            self.weight = 1\n",
    "        if self.ignore_index is None:\n",
    "            self.ignore_index = c + 1\n",
    "\n",
    "        entropy = self.get_entropy(pred, label)\n",
    "\n",
    "        mask = label != self.ignore_index\n",
    "        weighted_entropy = entropy * self.weight\n",
    "\n",
    "        if self.reduction == 'sum':\n",
    "            loss = torch.sum(weighted_entropy, -1)[mask].mean()\n",
    "        elif self.reduction == 'mean':\n",
    "            loss = torch.mean(weighted_entropy, -1)[mask].mean()\n",
    "        return loss\n",
    "\n",
    "\n",
    "class OrdinalRegression2d(_BaseEntropyLoss2d):\n",
    "    def __init__(self, ignore_index=None, reduction='sum', use_weights=False, weight=None):\n",
    "        super(OrdinalRegression2d, self).__init__(ignore_index, reduction, use_weights, weight)\n",
    "\n",
    "    def get_entropy(self, pred, label):\n",
    "        n, c, h, w = pred.size()\n",
    "        label = label.unsqueeze(3).long()\n",
    "        pred = pred.permute(0, 2, 3, 1)\n",
    "        mask10 = ((torch.arange(c)).cuda() <  label).float()\n",
    "        mask01 = ((torch.arange(c)).cuda() >= label).float()\n",
    "        entropy = safe_log(pred) * mask10 + safe_log(1 - pred) * mask01\n",
    "        return -entropy\n"
   ]
  },
  {
   "cell_type": "code",
   "execution_count": 22,
   "metadata": {
    "colab": {
     "base_uri": "https://localhost:8080/"
    },
    "id": "1bdwp0vEh7SH",
    "outputId": "a2e0173d-7c3a-4f03-a6ad-61a951cef745",
    "scrolled": true
   },
   "outputs": [
    {
     "name": "stderr",
     "output_type": "stream",
     "text": [
      "Epoch [1/15]:   0%|                                                                                                                                                                | 0/1150 [00:00<?, ?it/s]/nfs4/sachinp/miniconda3/envs/unet/lib/python3.9/site-packages/torch/nn/functional.py:2741: UserWarning: reduction: 'mean' divides the total loss by both the batch size and the support size.'batchmean' divides only by the batch size, and aligns with the KL div math definition.'mean' will be changed to behave the same as 'batchmean' in the next major release.\n",
      "  warnings.warn(\n",
      "Epoch [1/15]: 100%|█████████████████████████████████████████████████████████████████████████████████████████████████████████████████████████████████████████████████████| 1150/1150 [02:03<00:00,  9.28it/s]\n"
     ]
    },
    {
     "name": "stdout",
     "output_type": "stream",
     "text": [
      "Epoch [1/15], TrainLoss: -113.7576\tValLoss_: -395.6293\n"
     ]
    },
    {
     "name": "stderr",
     "output_type": "stream",
     "text": [
      "Epoch [2/15]: 100%|█████████████████████████████████████████████████████████████████████████████████████████████████████████████████████████████████████████████████████| 1150/1150 [02:05<00:00,  9.15it/s]\n"
     ]
    },
    {
     "name": "stdout",
     "output_type": "stream",
     "text": [
      "Epoch [2/15], TrainLoss: -727.7004\tValLoss_: -1406.2272\n"
     ]
    },
    {
     "name": "stderr",
     "output_type": "stream",
     "text": [
      "Epoch [3/15]: 100%|█████████████████████████████████████████████████████████████████████████████████████████████████████████████████████████████████████████████████████| 1150/1150 [02:05<00:00,  9.13it/s]\n"
     ]
    },
    {
     "name": "stdout",
     "output_type": "stream",
     "text": [
      "Epoch [3/15], TrainLoss: -1790.4441\tValLoss_: -2872.7471\n"
     ]
    },
    {
     "name": "stderr",
     "output_type": "stream",
     "text": [
      "Epoch [4/15]:  31%|██████████████████████████████████████████████▎                                                                                                       | 355/1150 [00:38<01:26,  9.23it/s]\n"
     ]
    },
    {
     "ename": "KeyboardInterrupt",
     "evalue": "",
     "output_type": "error",
     "traceback": [
      "\u001b[0;31m---------------------------------------------------------------------------\u001b[0m",
      "\u001b[0;31mKeyboardInterrupt\u001b[0m                         Traceback (most recent call last)",
      "\u001b[0;32m/tmp/ipykernel_2781/277618488.py\u001b[0m in \u001b[0;36m<module>\u001b[0;34m\u001b[0m\n\u001b[1;32m     21\u001b[0m     \u001b[0mloss\u001b[0m \u001b[0;34m=\u001b[0m \u001b[0mloss_f\u001b[0m\u001b[0;34m(\u001b[0m\u001b[0moutput\u001b[0m\u001b[0;34m,\u001b[0m\u001b[0mdepth\u001b[0m\u001b[0;34m)\u001b[0m \u001b[0;31m#+ (gradLoss(output,depth))\u001b[0m\u001b[0;34m\u001b[0m\u001b[0;34m\u001b[0m\u001b[0m\n\u001b[1;32m     22\u001b[0m     \u001b[0mloss\u001b[0m\u001b[0;34m.\u001b[0m\u001b[0mbackward\u001b[0m\u001b[0;34m(\u001b[0m\u001b[0;34m)\u001b[0m\u001b[0;34m\u001b[0m\u001b[0;34m\u001b[0m\u001b[0m\n\u001b[0;32m---> 23\u001b[0;31m     \u001b[0moptimizer\u001b[0m\u001b[0;34m.\u001b[0m\u001b[0mstep\u001b[0m\u001b[0;34m(\u001b[0m\u001b[0;34m)\u001b[0m\u001b[0;34m\u001b[0m\u001b[0;34m\u001b[0m\u001b[0m\n\u001b[0m\u001b[1;32m     24\u001b[0m     \u001b[0mrunning_loss\u001b[0m\u001b[0;34m+=\u001b[0m\u001b[0mloss\u001b[0m\u001b[0;34m\u001b[0m\u001b[0;34m\u001b[0m\u001b[0m\n\u001b[1;32m     25\u001b[0m   \u001b[0mrunning_loss\u001b[0m\u001b[0;34m/=\u001b[0m\u001b[0;34m(\u001b[0m\u001b[0mlen\u001b[0m\u001b[0;34m(\u001b[0m\u001b[0mtrain_loader\u001b[0m\u001b[0;34m)\u001b[0m\u001b[0;34m)\u001b[0m\u001b[0;34m\u001b[0m\u001b[0;34m\u001b[0m\u001b[0m\n",
      "\u001b[0;32m~/miniconda3/envs/unet/lib/python3.9/site-packages/torch/optim/optimizer.py\u001b[0m in \u001b[0;36mwrapper\u001b[0;34m(*args, **kwargs)\u001b[0m\n\u001b[1;32m     86\u001b[0m                 \u001b[0mprofile_name\u001b[0m \u001b[0;34m=\u001b[0m \u001b[0;34m\"Optimizer.step#{}.step\"\u001b[0m\u001b[0;34m.\u001b[0m\u001b[0mformat\u001b[0m\u001b[0;34m(\u001b[0m\u001b[0mobj\u001b[0m\u001b[0;34m.\u001b[0m\u001b[0m__class__\u001b[0m\u001b[0;34m.\u001b[0m\u001b[0m__name__\u001b[0m\u001b[0;34m)\u001b[0m\u001b[0;34m\u001b[0m\u001b[0;34m\u001b[0m\u001b[0m\n\u001b[1;32m     87\u001b[0m                 \u001b[0;32mwith\u001b[0m \u001b[0mtorch\u001b[0m\u001b[0;34m.\u001b[0m\u001b[0mautograd\u001b[0m\u001b[0;34m.\u001b[0m\u001b[0mprofiler\u001b[0m\u001b[0;34m.\u001b[0m\u001b[0mrecord_function\u001b[0m\u001b[0;34m(\u001b[0m\u001b[0mprofile_name\u001b[0m\u001b[0;34m)\u001b[0m\u001b[0;34m:\u001b[0m\u001b[0;34m\u001b[0m\u001b[0;34m\u001b[0m\u001b[0m\n\u001b[0;32m---> 88\u001b[0;31m                     \u001b[0;32mreturn\u001b[0m \u001b[0mfunc\u001b[0m\u001b[0;34m(\u001b[0m\u001b[0;34m*\u001b[0m\u001b[0margs\u001b[0m\u001b[0;34m,\u001b[0m \u001b[0;34m**\u001b[0m\u001b[0mkwargs\u001b[0m\u001b[0;34m)\u001b[0m\u001b[0;34m\u001b[0m\u001b[0;34m\u001b[0m\u001b[0m\n\u001b[0m\u001b[1;32m     89\u001b[0m             \u001b[0;32mreturn\u001b[0m \u001b[0mwrapper\u001b[0m\u001b[0;34m\u001b[0m\u001b[0;34m\u001b[0m\u001b[0m\n\u001b[1;32m     90\u001b[0m \u001b[0;34m\u001b[0m\u001b[0m\n",
      "\u001b[0;32m~/miniconda3/envs/unet/lib/python3.9/site-packages/torch/autograd/grad_mode.py\u001b[0m in \u001b[0;36mdecorate_context\u001b[0;34m(*args, **kwargs)\u001b[0m\n\u001b[1;32m     26\u001b[0m         \u001b[0;32mdef\u001b[0m \u001b[0mdecorate_context\u001b[0m\u001b[0;34m(\u001b[0m\u001b[0;34m*\u001b[0m\u001b[0margs\u001b[0m\u001b[0;34m,\u001b[0m \u001b[0;34m**\u001b[0m\u001b[0mkwargs\u001b[0m\u001b[0;34m)\u001b[0m\u001b[0;34m:\u001b[0m\u001b[0;34m\u001b[0m\u001b[0;34m\u001b[0m\u001b[0m\n\u001b[1;32m     27\u001b[0m             \u001b[0;32mwith\u001b[0m \u001b[0mself\u001b[0m\u001b[0;34m.\u001b[0m\u001b[0m__class__\u001b[0m\u001b[0;34m(\u001b[0m\u001b[0;34m)\u001b[0m\u001b[0;34m:\u001b[0m\u001b[0;34m\u001b[0m\u001b[0;34m\u001b[0m\u001b[0m\n\u001b[0;32m---> 28\u001b[0;31m                 \u001b[0;32mreturn\u001b[0m \u001b[0mfunc\u001b[0m\u001b[0;34m(\u001b[0m\u001b[0;34m*\u001b[0m\u001b[0margs\u001b[0m\u001b[0;34m,\u001b[0m \u001b[0;34m**\u001b[0m\u001b[0mkwargs\u001b[0m\u001b[0;34m)\u001b[0m\u001b[0;34m\u001b[0m\u001b[0;34m\u001b[0m\u001b[0m\n\u001b[0m\u001b[1;32m     29\u001b[0m         \u001b[0;32mreturn\u001b[0m \u001b[0mcast\u001b[0m\u001b[0;34m(\u001b[0m\u001b[0mF\u001b[0m\u001b[0;34m,\u001b[0m \u001b[0mdecorate_context\u001b[0m\u001b[0;34m)\u001b[0m\u001b[0;34m\u001b[0m\u001b[0;34m\u001b[0m\u001b[0m\n\u001b[1;32m     30\u001b[0m \u001b[0;34m\u001b[0m\u001b[0m\n",
      "\u001b[0;32m~/miniconda3/envs/unet/lib/python3.9/site-packages/torch/optim/adam.py\u001b[0m in \u001b[0;36mstep\u001b[0;34m(self, closure)\u001b[0m\n\u001b[1;32m    105\u001b[0m                     \u001b[0mstate_steps\u001b[0m\u001b[0;34m.\u001b[0m\u001b[0mappend\u001b[0m\u001b[0;34m(\u001b[0m\u001b[0mstate\u001b[0m\u001b[0;34m[\u001b[0m\u001b[0;34m'step'\u001b[0m\u001b[0;34m]\u001b[0m\u001b[0;34m)\u001b[0m\u001b[0;34m\u001b[0m\u001b[0;34m\u001b[0m\u001b[0m\n\u001b[1;32m    106\u001b[0m \u001b[0;34m\u001b[0m\u001b[0m\n\u001b[0;32m--> 107\u001b[0;31m             F.adam(params_with_grad,\n\u001b[0m\u001b[1;32m    108\u001b[0m                    \u001b[0mgrads\u001b[0m\u001b[0;34m,\u001b[0m\u001b[0;34m\u001b[0m\u001b[0;34m\u001b[0m\u001b[0m\n\u001b[1;32m    109\u001b[0m                    \u001b[0mexp_avgs\u001b[0m\u001b[0;34m,\u001b[0m\u001b[0;34m\u001b[0m\u001b[0;34m\u001b[0m\u001b[0m\n",
      "\u001b[0;32m~/miniconda3/envs/unet/lib/python3.9/site-packages/torch/optim/_functional.py\u001b[0m in \u001b[0;36madam\u001b[0;34m(params, grads, exp_avgs, exp_avg_sqs, max_exp_avg_sqs, state_steps, amsgrad, beta1, beta2, lr, weight_decay, eps)\u001b[0m\n\u001b[1;32m     85\u001b[0m         \u001b[0;31m# Decay the first and second moment running average coefficient\u001b[0m\u001b[0;34m\u001b[0m\u001b[0;34m\u001b[0m\u001b[0m\n\u001b[1;32m     86\u001b[0m         \u001b[0mexp_avg\u001b[0m\u001b[0;34m.\u001b[0m\u001b[0mmul_\u001b[0m\u001b[0;34m(\u001b[0m\u001b[0mbeta1\u001b[0m\u001b[0;34m)\u001b[0m\u001b[0;34m.\u001b[0m\u001b[0madd_\u001b[0m\u001b[0;34m(\u001b[0m\u001b[0mgrad\u001b[0m\u001b[0;34m,\u001b[0m \u001b[0malpha\u001b[0m\u001b[0;34m=\u001b[0m\u001b[0;36m1\u001b[0m \u001b[0;34m-\u001b[0m \u001b[0mbeta1\u001b[0m\u001b[0;34m)\u001b[0m\u001b[0;34m\u001b[0m\u001b[0;34m\u001b[0m\u001b[0m\n\u001b[0;32m---> 87\u001b[0;31m         \u001b[0mexp_avg_sq\u001b[0m\u001b[0;34m.\u001b[0m\u001b[0mmul_\u001b[0m\u001b[0;34m(\u001b[0m\u001b[0mbeta2\u001b[0m\u001b[0;34m)\u001b[0m\u001b[0;34m.\u001b[0m\u001b[0maddcmul_\u001b[0m\u001b[0;34m(\u001b[0m\u001b[0mgrad\u001b[0m\u001b[0;34m,\u001b[0m \u001b[0mgrad\u001b[0m\u001b[0;34m,\u001b[0m \u001b[0mvalue\u001b[0m\u001b[0;34m=\u001b[0m\u001b[0;36m1\u001b[0m \u001b[0;34m-\u001b[0m \u001b[0mbeta2\u001b[0m\u001b[0;34m)\u001b[0m\u001b[0;34m\u001b[0m\u001b[0;34m\u001b[0m\u001b[0m\n\u001b[0m\u001b[1;32m     88\u001b[0m         \u001b[0;32mif\u001b[0m \u001b[0mamsgrad\u001b[0m\u001b[0;34m:\u001b[0m\u001b[0;34m\u001b[0m\u001b[0;34m\u001b[0m\u001b[0m\n\u001b[1;32m     89\u001b[0m             \u001b[0;31m# Maintains the maximum of all 2nd moment running avg. till now\u001b[0m\u001b[0;34m\u001b[0m\u001b[0;34m\u001b[0m\u001b[0m\n",
      "\u001b[0;31mKeyboardInterrupt\u001b[0m: "
     ]
    }
   ],
   "source": [
    "#Parameters\n",
    "epochs=15\n",
    "LEARNING_RATE = 1e-3\n",
    "MOMENTUM  = 1e-4\n",
    "WEIGHT_DECAY = 1e-4\n",
    "# optimizer = torch.optim.SGD(model.parameters(), lr=LEARNING_RATE,momentum=MOMENTUM ,weight_decay=WEIGHT_DECAY)\n",
    "optimizer = torch.optim.Adam(model.parameters(), lr=LEARNING_RATE,weight_decay=WEIGHT_DECAY)\n",
    "\n",
    "# loss_f = nn.MSELoss()\n",
    "loss_f = nn.KLDivLoss()\n",
    "training_loss=[]\n",
    "validation_loss=[]\n",
    "for epoch in range(epochs):\n",
    "  loop = tqdm(enumerate(train_loader), total = len(train_loader),desc = f'Epoch [{epoch+1}/{epochs}]')\n",
    "  running_loss=0\n",
    "  for batch_idx, (image,depth) in loop:\n",
    "    image=image.to(device)\n",
    "    depth=depth.to(device)\n",
    "    optimizer.zero_grad()\n",
    "    output= model(image)\n",
    "    loss = loss_f(output,depth) #+ (gradLoss(output,depth))\n",
    "    loss.backward()\n",
    "    optimizer.step()\n",
    "    running_loss+=loss\n",
    "  running_loss/=(len(train_loader))\n",
    "  training_loss.append(running_loss)\n",
    "  print (f'Epoch [{epoch+1}/{epochs}], TrainLoss: {running_loss:.4f}',end='')\n",
    "\n",
    "  with torch.no_grad():\n",
    "    running_val_loss=0\n",
    "    for val_image,val_depth in val_loader:\n",
    "      val_image=val_image.to(device)\n",
    "      val_depth=val_depth.to(device)\n",
    "      val_out = model(val_image)\n",
    "      val_loss = loss_f(val_out,val_depth) #+ (gradLoss(output,depth))\n",
    "      running_val_loss +=val_loss\n",
    "    running_val_loss/=(len(val_loader))\n",
    "    validation_loss.append(running_val_loss)\n",
    "    print(f'\\tValLoss_: {running_val_loss: .4f}')\n",
    "PATH = './UNetDepth3drop.pth'\n",
    "torch.save(model.state_dict(), PATH)"
   ]
  },
  {
   "cell_type": "code",
   "execution_count": 23,
   "metadata": {
    "id": "A6I3y0PCHy3U",
    "scrolled": true
   },
   "outputs": [],
   "source": [
    "PATH = './UNetDepth3drop.pth'\n",
    "torch.save(model.state_dict(), PATH)"
   ]
  },
  {
   "cell_type": "code",
   "execution_count": 24,
   "metadata": {
    "id": "jd3mc_77YWZm"
   },
   "outputs": [
    {
     "data": {
      "text/plain": [
       "<All keys matched successfully>"
      ]
     },
     "execution_count": 24,
     "metadata": {},
     "output_type": "execute_result"
    }
   ],
   "source": [
    "PATH = './UNetDepth3drop.pth'\n",
    "ff = UNetDepth_attention().to(device)\n",
    "check = torch.nn.DataParallel(ff, device_ids=[0, 1, 2, 3])\n",
    "check.load_state_dict(torch.load(PATH))"
   ]
  },
  {
   "cell_type": "code",
   "execution_count": 25,
   "metadata": {
    "id": "MXDXADnR6yOE"
   },
   "outputs": [
    {
     "name": "stdout",
     "output_type": "stream",
     "text": [
      "torch.Size([3, 400, 400])\n"
     ]
    },
    {
     "data": {
      "text/plain": [
       "<matplotlib.image.AxesImage at 0x7fdc540c2670>"
      ]
     },
     "execution_count": 25,
     "metadata": {},
     "output_type": "execute_result"
    },
    {
     "data": {
      "image/png": "[encoded data removed]",
      "text/plain": [
       "<Figure size 432x288 with 4 Axes>"
      ]
     },
     "metadata": {
      "needs_background": "light"
     },
     "output_type": "display_data"
    }
   ],
   "source": [
    "f, axarr = plt.subplots(2,2)\n",
    "image_test =  files['images'][1440]\n",
    "depth_test =  files['depths'][1440]\n",
    "axarr[0,0].imshow(image_test.T)\n",
    "axarr[0,1].imshow(depth_test.T)\n",
    "# img=rgb_transforms(image_test.T)\n",
    "img=rgb_transforms(image_test.T)\n",
    "# dep=depth_transforms(Image.fromarray(np.uint8(depth_test.T)))\n",
    "dep=depth_transforms(depth_test.T)\n",
    "print(img.shape)\n",
    "img2=img.view(1, 3, IMAGE_HEIGHT,IMAGE_WIDTH)\n",
    "test_out = check(img2.to(device))\n",
    "axarr[1,1].imshow(test_out[0][0].detach().cpu().numpy(), interpolation=\"bilinear\")\n",
    "axarr[1,0].imshow(img.permute(1,2,0))"
   ]
  },
  {
   "cell_type": "code",
   "execution_count": null,
   "metadata": {},
   "outputs": [],
   "source": [
    "# p = rcr_depth_transforms(files['depths'][1420].T)\n",
    "# plt.imshow(np.transpose(p[0].detach().cpu().numpy(), (0,1)), interpolation=\"bilinear\")"
   ]
  },
  {
   "cell_type": "code",
   "execution_count": null,
   "metadata": {},
   "outputs": [],
   "source": [
    "l = torch.sqrt(loss_f(dep.to(device),test_out))\n",
    "l"
   ]
  },
  {
   "cell_type": "code",
   "execution_count": null,
   "metadata": {},
   "outputs": [],
   "source": [
    "plt.imshow(test_out[0][0].detach().cpu().numpy(), interpolation=\"bilinear\")"
   ]
  },
  {
   "cell_type": "code",
   "execution_count": null,
   "metadata": {},
   "outputs": [],
   "source": []
  }
 ],
 "metadata": {
  "accelerator": "GPU",
  "colab": {
   "collapsed_sections": [],
   "name": "Unet_monocular_depth.ipynb",
   "provenance": []
  },
  "kernelspec": {
   "display_name": "Python 3 (ipykernel)",
   "language": "python",
   "name": "python3"
  },
  "language_info": {
   "codemirror_mode": {
    "name": "ipython",
    "version": 3
   },
   "file_extension": ".py",
   "mimetype": "text/x-python",
   "name": "python",
   "nbconvert_exporter": "python",
   "pygments_lexer": "ipython3",
   "version": "3.6.13"
  }
 },
 "nbformat": 4,
 "nbformat_minor": 1
}
